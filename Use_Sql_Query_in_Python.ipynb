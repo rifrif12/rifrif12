{
  "nbformat": 4,
  "nbformat_minor": 0,
  "metadata": {
    "colab": {
      "name": "Use Sql Query in Python",
      "provenance": [],
      "collapsed_sections": [],
      "authorship_tag": "ABX9TyO+CN5wouLfXBIDiV9y7oxr",
      "include_colab_link": true
    },
    "kernelspec": {
      "name": "python3",
      "display_name": "Python 3"
    },
    "language_info": {
      "name": "python"
    }
  },
  "cells": [
    {
      "cell_type": "markdown",
      "metadata": {
        "id": "view-in-github",
        "colab_type": "text"
      },
      "source": [
        "<a href=\"https://colab.research.google.com/github/rifrif12/rifrif12/blob/main/Use_Sql_Query_in_Python.ipynb\" target=\"_parent\"><img src=\"https://colab.research.google.com/assets/colab-badge.svg\" alt=\"Open In Colab\"/></a>"
      ]
    },
    {
      "cell_type": "code",
      "metadata": {
        "id": "6M7GQESB0gNh"
      },
      "source": [
        "import sqlite3\n",
        "import pandas as pd"
      ],
      "execution_count": null,
      "outputs": []
    },
    {
      "cell_type": "code",
      "metadata": {
        "colab": {
          "base_uri": "https://localhost:8080/"
        },
        "id": "f2pqOwlb0iHB",
        "outputId": "70a43df0-e621-402b-9adf-a3a1e5a0af80"
      },
      "source": [
        "# CREATING THE TABLE\n",
        "import sqlite3\n",
        "\n",
        "conn = sqlite3.connect('baru.db')\n",
        "print(\"Opened database successfully\");\n",
        "\n",
        "conn.execute('''CREATE TABLE IF NOT EXISTS Table_B(Name VARCHAR(7), \n",
        "                                                   Age INT, \n",
        "                                                   City VARCHAR(13));''')\n",
        "conn.execute('''CREATE TABLE IF NOT EXISTS Table_A(Country VARCHAR(9), \n",
        "                                                   Region VARCHAR(14), \n",
        "                                                   City VARCHAR(13));''')\n",
        "\n",
        "\n",
        "\n",
        "conn.commit()\n",
        "\n",
        "print(\"Table created successfully\");\n",
        "\n"
      ],
      "execution_count": null,
      "outputs": [
        {
          "output_type": "stream",
          "text": [
            "Opened database successfully\n",
            "Table created successfully\n"
          ],
          "name": "stdout"
        }
      ]
    },
    {
      "cell_type": "code",
      "metadata": {
        "id": "dSucnm7w2lb5"
      },
      "source": [
        "# INSERTING VALUES\n",
        "\n",
        "conn.execute(\"INSERT INTO Table_B VALUES('James',30,'Jakarta Pusat');\")\n",
        "conn.execute(\"INSERT INTO Table_B VALUES('Anita',26,'Jakarta Pusat');\")\n",
        "conn.execute(\"INSERT INTO Table_B VALUES('Daniel',40,'Surabaya');\")\n",
        "conn.execute(\"INSERT INTO Table_B VALUES('Hudson',44,'Medan');\")\n",
        "conn.execute(\"INSERT INTO Table_B VALUES('Gwen',22,'Surabaya');\")\n",
        "conn.execute(\"INSERT INTO Table_B VALUES('Roberto',25,'Medan');\")\n",
        "conn.execute(\"INSERT INTO Table_A VALUES('Indonesia','Jakarta Raya','Jakarta Pusat');\")\n",
        "conn.execute(\"INSERT INTO Table_A VALUES('Indonesia','Jawa Timur','Surabaya');\")\n",
        "conn.execute(\"INSERT INTO Table_A VALUES('Indonesia','Sumatera Utara','Medan');\")\n",
        "\n",
        "conn.commit()"
      ],
      "execution_count": null,
      "outputs": []
    },
    {
      "cell_type": "code",
      "metadata": {
        "id": "mlbhKpBx4zok"
      },
      "source": [
        "query = ''' select  b.Name,\n",
        "                    b.Age,\n",
        "                    b.City,\n",
        "                    a.Region,\n",
        "                    a.Country\n",
        "             from Table_A a inner join Table_B b\n",
        "             on a.City=b.City;\n",
        "        '''"
      ],
      "execution_count": null,
      "outputs": []
    },
    {
      "cell_type": "code",
      "metadata": {
        "colab": {
          "base_uri": "https://localhost:8080/",
          "height": 235
        },
        "id": "BT15wB-h4QtJ",
        "outputId": "21958a0c-4edd-4cfe-dbe9-b2ded5feb4bb"
      },
      "source": [
        "data = pd.read_sql_query(query, conn)\n",
        "data"
      ],
      "execution_count": null,
      "outputs": [
        {
          "output_type": "execute_result",
          "data": {
            "text/html": [
              "<div>\n",
              "<style scoped>\n",
              "    .dataframe tbody tr th:only-of-type {\n",
              "        vertical-align: middle;\n",
              "    }\n",
              "\n",
              "    .dataframe tbody tr th {\n",
              "        vertical-align: top;\n",
              "    }\n",
              "\n",
              "    .dataframe thead th {\n",
              "        text-align: right;\n",
              "    }\n",
              "</style>\n",
              "<table border=\"1\" class=\"dataframe\">\n",
              "  <thead>\n",
              "    <tr style=\"text-align: right;\">\n",
              "      <th></th>\n",
              "      <th>Name</th>\n",
              "      <th>Age</th>\n",
              "      <th>City</th>\n",
              "      <th>Region</th>\n",
              "      <th>Country</th>\n",
              "    </tr>\n",
              "  </thead>\n",
              "  <tbody>\n",
              "    <tr>\n",
              "      <th>0</th>\n",
              "      <td>Anita</td>\n",
              "      <td>26</td>\n",
              "      <td>Jakarta Pusat</td>\n",
              "      <td>Jakarta Raya</td>\n",
              "      <td>Indonesia</td>\n",
              "    </tr>\n",
              "    <tr>\n",
              "      <th>1</th>\n",
              "      <td>James</td>\n",
              "      <td>30</td>\n",
              "      <td>Jakarta Pusat</td>\n",
              "      <td>Jakarta Raya</td>\n",
              "      <td>Indonesia</td>\n",
              "    </tr>\n",
              "    <tr>\n",
              "      <th>2</th>\n",
              "      <td>Daniel</td>\n",
              "      <td>40</td>\n",
              "      <td>Surabaya</td>\n",
              "      <td>Jawa Timur</td>\n",
              "      <td>Indonesia</td>\n",
              "    </tr>\n",
              "    <tr>\n",
              "      <th>3</th>\n",
              "      <td>Gwen</td>\n",
              "      <td>22</td>\n",
              "      <td>Surabaya</td>\n",
              "      <td>Jawa Timur</td>\n",
              "      <td>Indonesia</td>\n",
              "    </tr>\n",
              "    <tr>\n",
              "      <th>4</th>\n",
              "      <td>Hudson</td>\n",
              "      <td>44</td>\n",
              "      <td>Medan</td>\n",
              "      <td>Sumatera Utara</td>\n",
              "      <td>Indonesia</td>\n",
              "    </tr>\n",
              "    <tr>\n",
              "      <th>5</th>\n",
              "      <td>Roberto</td>\n",
              "      <td>25</td>\n",
              "      <td>Medan</td>\n",
              "      <td>Sumatera Utara</td>\n",
              "      <td>Indonesia</td>\n",
              "    </tr>\n",
              "  </tbody>\n",
              "</table>\n",
              "</div>"
            ],
            "text/plain": [
              "      Name  Age           City          Region    Country\n",
              "0    Anita   26  Jakarta Pusat    Jakarta Raya  Indonesia\n",
              "1    James   30  Jakarta Pusat    Jakarta Raya  Indonesia\n",
              "2   Daniel   40       Surabaya      Jawa Timur  Indonesia\n",
              "3     Gwen   22       Surabaya      Jawa Timur  Indonesia\n",
              "4   Hudson   44          Medan  Sumatera Utara  Indonesia\n",
              "5  Roberto   25          Medan  Sumatera Utara  Indonesia"
            ]
          },
          "metadata": {
            "tags": []
          },
          "execution_count": 19
        }
      ]
    }
  ]
}